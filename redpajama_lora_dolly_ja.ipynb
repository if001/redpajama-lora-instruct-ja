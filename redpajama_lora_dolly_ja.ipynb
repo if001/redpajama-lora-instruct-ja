{
  "nbformat": 4,
  "nbformat_minor": 0,
  "metadata": {
    "colab": {
      "provenance": [],
      "authorship_tag": "ABX9TyNEWrplPL1N3VqSpUIX3Pac",
      "include_colab_link": true
    },
    "kernelspec": {
      "name": "python3",
      "display_name": "Python 3"
    },
    "language_info": {
      "name": "python"
    }
  },
  "cells": [
    {
      "cell_type": "markdown",
      "metadata": {
        "id": "view-in-github",
        "colab_type": "text"
      },
      "source": [
        "<a href=\"https://colab.research.google.com/github/if001/redpajama-lora-instruct-ja/blob/main/redpajama_lora_dolly_ja.ipynb\" target=\"_parent\"><img src=\"https://colab.research.google.com/assets/colab-badge.svg\" alt=\"Open In Colab\"/></a>"
      ]
    },
    {
      "cell_type": "markdown",
      "source": [
        "## setup"
      ],
      "metadata": {
        "id": "jJTnIFtg7KL1"
      }
    },
    {
      "cell_type": "code",
      "execution_count": null,
      "metadata": {
        "id": "64i9OViq38wF"
      },
      "outputs": [],
      "source": [
        "!git clone https://github.com/if001/redpajama_dolly_ja.git\n",
        "repo_dir='/content/redpajama_dolly_ja'\n",
        "%cd $repo_dir\n",
        "\n",
        "!pip install -r requirements.txt"
      ]
    },
    {
      "cell_type": "code",
      "source": [
        "#@title Google Drive Options { display-mode: \"form\" }\n",
        "save_models_to_drive = True #@param {type:\"boolean\"}\n",
        "drive_mount = '/content/drive' #@param {type:\"string\"}\n",
        "output_dir = 'redpajama_dolly_ja' #@param {type:\"string\"}\n",
        "\n",
        "import os\n",
        "if save_models_to_drive:\n",
        "    from google.colab import drive\n",
        "    drive.mount(drive_mount)\n",
        "    output_path = f\"{drive_mount}/MyDrive/models/{output_dir}\" if save_models_to_drive else f\"/content/{output_dir}\"\n",
        "else:\n",
        "    output_path = \"/content\"\n",
        "\n",
        "\n",
        "print(f\"Saving models to {output_path}\")"
      ],
      "metadata": {
        "id": "ZGfhPiAF7PTD"
      },
      "execution_count": null,
      "outputs": []
    },
    {
      "cell_type": "markdown",
      "source": [
        "## train"
      ],
      "metadata": {
        "id": "yDgbQiOo7QkZ"
      }
    },
    {
      "cell_type": "code",
      "source": [
        "%cd $repo_dir\n",
        "\n",
        "base_model=\"togethercomputer/RedPajama-INCITE-Base-3B-v1\"\n",
        "data_path=\"kunishou/databricks-dolly-15k-ja\"\n",
        "\n",
        "!python3 finetune.py \\\n",
        "--base_model=$base_model \\\n",
        "--batch_size=8 \\\n",
        "--micro_batch_size=1 \\\n",
        "--prompt_template_name=\"dolly_ja\" \\\n",
        "--cutoff_len=1024 \\\n",
        "--output_dir=$output_path \\\n",
        "--epoch=3 \\\n",
        "--data_path=$data_path\n"
      ],
      "metadata": {
        "id": "0I6qMcvo7Ru4"
      },
      "execution_count": null,
      "outputs": []
    }
  ]
}